{
 "cells": [
  {
   "cell_type": "code",
   "execution_count": 42,
   "metadata": {},
   "outputs": [
    {
     "ename": "ModuleNotFoundError",
     "evalue": "No module named 'torchvision'",
     "output_type": "error",
     "traceback": [
      "\u001b[0;31m---------------------------------------------------------------------------\u001b[0m",
      "\u001b[0;31mModuleNotFoundError\u001b[0m                       Traceback (most recent call last)",
      "\u001b[0;32m<ipython-input-42-106fd24d8d42>\u001b[0m in \u001b[0;36m<module>\u001b[0;34m()\u001b[0m\n\u001b[1;32m      6\u001b[0m \u001b[0;32mimport\u001b[0m \u001b[0mos\u001b[0m\u001b[0;34m\u001b[0m\u001b[0m\n\u001b[1;32m      7\u001b[0m \u001b[0;32mimport\u001b[0m \u001b[0mtorch\u001b[0m\u001b[0;34m\u001b[0m\u001b[0m\n\u001b[0;32m----> 8\u001b[0;31m \u001b[0;32mimport\u001b[0m \u001b[0mtorchvision\u001b[0m\u001b[0;34m\u001b[0m\u001b[0m\n\u001b[0m\u001b[1;32m      9\u001b[0m \u001b[0;32mfrom\u001b[0m \u001b[0mtorch\u001b[0m\u001b[0;34m.\u001b[0m\u001b[0mutils\u001b[0m\u001b[0;34m.\u001b[0m\u001b[0mdata\u001b[0m \u001b[0;32mimport\u001b[0m \u001b[0mDataset\u001b[0m\u001b[0;34m,\u001b[0m \u001b[0mDataLoader\u001b[0m\u001b[0;34m\u001b[0m\u001b[0m\n\u001b[1;32m     10\u001b[0m \u001b[0;32mimport\u001b[0m \u001b[0mtorchvision\u001b[0m\u001b[0;34m.\u001b[0m\u001b[0mtransforms\u001b[0m \u001b[0;32mas\u001b[0m \u001b[0mtransforms\u001b[0m\u001b[0;34m\u001b[0m\u001b[0m\n",
      "\u001b[0;31mModuleNotFoundError\u001b[0m: No module named 'torchvision'"
     ]
    }
   ],
   "source": [
    "import pandas as pd\n",
    "import numpy as np\n",
    "import matplotlib.pyplot as plt\n",
    "import xml.etree.ElementTree as ET\n",
    "import glob\n",
    "import os\n",
    "import torch\n",
    "import torchvision\n",
    "from torch.utils.data import Dataset, DataLoader\n",
    "import torchvision.transforms as transforms\n",
    "from skimage import io"
   ]
  },
  {
   "cell_type": "code",
   "execution_count": 37,
   "metadata": {},
   "outputs": [
    {
     "name": "stdout",
     "output_type": "stream",
     "text": [
      "4\r\n"
     ]
    }
   ],
   "source": [
    "!ls -1 | wc -l"
   ]
  },
  {
   "cell_type": "code",
   "execution_count": 38,
   "metadata": {},
   "outputs": [
    {
     "name": "stdout",
     "output_type": "stream",
     "text": [
      "181601\r\n"
     ]
    }
   ],
   "source": [
    "!find images -type f | wc -l"
   ]
  },
  {
   "cell_type": "code",
   "execution_count": 16,
   "metadata": {},
   "outputs": [
    {
     "name": "stdout",
     "output_type": "stream",
     "text": [
      "NVIDIA-SMI has failed because it couldn't communicate with the NVIDIA driver. Make sure that the latest NVIDIA driver is installed and running.\r\n",
      "\r\n"
     ]
    }
   ],
   "source": [
    "!nvidia-smi"
   ]
  },
  {
   "cell_type": "code",
   "execution_count": 22,
   "metadata": {},
   "outputs": [
    {
     "ename": "TypeError",
     "evalue": "'bool' object is not iterable",
     "output_type": "error",
     "traceback": [
      "\u001b[0;31m---------------------------------------------------------------------------\u001b[0m",
      "\u001b[0;31mModuleNotFoundError\u001b[0m                       Traceback (most recent call last)",
      "\u001b[0;32m<ipython-input-22-ed940f057b0d>\u001b[0m in \u001b[0;36mmain\u001b[0;34m()\u001b[0m\n\u001b[1;32m    154\u001b[0m     \u001b[0;32mtry\u001b[0m\u001b[0;34m:\u001b[0m\u001b[0;34m\u001b[0m\u001b[0m\n\u001b[0;32m--> 155\u001b[0;31m         \u001b[0;32mimport\u001b[0m \u001b[0mtorch\u001b[0m\u001b[0;34m\u001b[0m\u001b[0m\n\u001b[0m\u001b[1;32m    156\u001b[0m         \u001b[0mprint\u001b[0m\u001b[0;34m(\u001b[0m\u001b[0;34m'`import torch` works perfectly.'\u001b[0m\u001b[0;34m)\u001b[0m\u001b[0;34m\u001b[0m\u001b[0m\n",
      "\u001b[0;31mModuleNotFoundError\u001b[0m: No module named 'torch'",
      "\nDuring handling of the above exception, another exception occurred:\n",
      "\u001b[0;31mTypeError\u001b[0m                                 Traceback (most recent call last)",
      "\u001b[0;32m<ipython-input-22-ed940f057b0d>\u001b[0m in \u001b[0;36m<module>\u001b[0;34m()\u001b[0m\n\u001b[1;32m    161\u001b[0m \u001b[0;34m\u001b[0m\u001b[0m\n\u001b[1;32m    162\u001b[0m \u001b[0;32mif\u001b[0m \u001b[0m__name__\u001b[0m \u001b[0;34m==\u001b[0m \u001b[0;34m'__main__'\u001b[0m\u001b[0;34m:\u001b[0m\u001b[0;34m\u001b[0m\u001b[0m\n\u001b[0;32m--> 163\u001b[0;31m     \u001b[0mmain\u001b[0m\u001b[0;34m(\u001b[0m\u001b[0;34m)\u001b[0m\u001b[0;34m\u001b[0m\u001b[0m\n\u001b[0m",
      "\u001b[0;32m<ipython-input-22-ed940f057b0d>\u001b[0m in \u001b[0;36mmain\u001b[0;34m()\u001b[0m\n\u001b[1;32m    156\u001b[0m         \u001b[0mprint\u001b[0m\u001b[0;34m(\u001b[0m\u001b[0;34m'`import torch` works perfectly.'\u001b[0m\u001b[0;34m)\u001b[0m\u001b[0;34m\u001b[0m\u001b[0m\n\u001b[1;32m    157\u001b[0m     \u001b[0;32mexcept\u001b[0m \u001b[0mImportError\u001b[0m \u001b[0;32mas\u001b[0m \u001b[0me\u001b[0m\u001b[0;34m:\u001b[0m\u001b[0;34m\u001b[0m\u001b[0m\n\u001b[0;32m--> 158\u001b[0;31m         \u001b[0mmessage\u001b[0m \u001b[0;34m=\u001b[0m \u001b[0mdetect_reason\u001b[0m\u001b[0;34m(\u001b[0m\u001b[0mstr\u001b[0m\u001b[0;34m(\u001b[0m\u001b[0me\u001b[0m\u001b[0;34m)\u001b[0m\u001b[0;34m)\u001b[0m\u001b[0;34m\u001b[0m\u001b[0m\n\u001b[0m\u001b[1;32m    159\u001b[0m         \u001b[0mprint\u001b[0m\u001b[0;34m(\u001b[0m\u001b[0mmessage\u001b[0m\u001b[0;34m)\u001b[0m\u001b[0;34m\u001b[0m\u001b[0m\n\u001b[1;32m    160\u001b[0m \u001b[0;34m\u001b[0m\u001b[0m\n",
      "\u001b[0;32m<ipython-input-22-ed940f057b0d>\u001b[0m in \u001b[0;36mdetect_reason\u001b[0;34m(raw_message)\u001b[0m\n\u001b[1;32m     69\u001b[0m     \u001b[0;32mif\u001b[0m \u001b[0mraw_message\u001b[0m \u001b[0;34m==\u001b[0m \u001b[0;34m'No module named torch'\u001b[0m \u001b[0;32mor\u001b[0m \u001b[0mraw_message\u001b[0m \u001b[0;34m==\u001b[0m \u001b[0;34m'No module named \\'torch\\''\u001b[0m\u001b[0;34m:\u001b[0m\u001b[0;34m\u001b[0m\u001b[0m\n\u001b[1;32m     70\u001b[0m         \u001b[0;31m# detect pip python path mismatch\u001b[0m\u001b[0;34m\u001b[0m\u001b[0;34m\u001b[0m\u001b[0m\n\u001b[0;32m---> 71\u001b[0;31m         \u001b[0mmismatch\u001b[0m\u001b[0;34m,\u001b[0m \u001b[0mpip_path\u001b[0m\u001b[0;34m,\u001b[0m \u001b[0mpython_path\u001b[0m \u001b[0;34m=\u001b[0m \u001b[0mdetect_install_import_mismatch\u001b[0m\u001b[0;34m(\u001b[0m\u001b[0;34m)\u001b[0m\u001b[0;34m\u001b[0m\u001b[0m\n\u001b[0m\u001b[1;32m     72\u001b[0m         \u001b[0;32mif\u001b[0m \u001b[0mmismatch\u001b[0m\u001b[0;34m:\u001b[0m\u001b[0;34m\u001b[0m\u001b[0m\n\u001b[1;32m     73\u001b[0m             \u001b[0mmessage\u001b[0m \u001b[0;34m+=\u001b[0m \u001b[0;34m'Probably you installed torch in one environment '\u001b[0m\u001b[0;34m\u001b[0m\u001b[0m\n",
      "\u001b[0;31mTypeError\u001b[0m: 'bool' object is not iterable"
     ]
    }
   ],
   "source": [
    "import ctypes\n",
    "import glob\n",
    "import os\n",
    "import sys\n",
    "import subprocess\n",
    "\n",
    "def infer_torch_root():\n",
    "    default_path = os.path.join(sys.exec_prefix, 'Lib\\\\site-packages\\\\torch')\n",
    "    for candidate in sys.path:\n",
    "        candidate_path = os.path.abspath(candidate)\n",
    "        candidate_path = os.path.join(candidate_path, 'torch')\n",
    "        if os.path.exists(candidate_path):\n",
    "            candidate_path = candidate_path\n",
    "            return candidate_path\n",
    "\n",
    "    return default_path\n",
    "\n",
    "PY3 = sys.version_info >= (3, 0)\n",
    "\n",
    "TORCH_ROOT = infer_torch_root()\n",
    "PY_DLL_PATH = os.path.join(os.path.dirname(sys.executable), 'Library\\\\bin')\n",
    "TORCH_DLL_PATH = os.path.join(TORCH_ROOT, 'lib')\n",
    "NVTOOLEXT_HOME = os.getenv(\n",
    "    'NVTOOLSEXT_PATH', 'C:\\\\Program Files\\\\NVIDIA Corporation\\\\NvToolsExt')\n",
    "NV_ROOT = os.path.dirname(NVTOOLEXT_HOME)\n",
    "\n",
    "IS_CUDA = len(glob.glob(TORCH_ROOT + '\\\\_nvrtc*.pyd')) > 0\n",
    "IS_CONDA = 'conda' in sys.version or 'Continuum' in sys.version or any(\n",
    "    [x.startswith('CONDA') for x in os.environ])\n",
    "\n",
    "VC_LIBS = ['msvcp140.dll']\n",
    "MKL_LIBS = ['mkl_rt.dll']\n",
    "INTEL_OPENMP_LIBS = ['libiomp5md.dll']\n",
    "CUDA_LIBS = ['nvcuda.dll',\n",
    "             'nvToolsExt64_1.dll',\n",
    "             'nvfatbinaryLoader.dll']\n",
    "TORCH_LIBS = ['shm.dll']\n",
    "\n",
    "def add_paths(paths):\n",
    "    \"\"\"Add paths to `PATH`\"\"\"\n",
    "    for path in paths:\n",
    "        os.environ['PATH'] = path + ';' + os.environ['PATH']\n",
    "\n",
    "\n",
    "def get_output(command):\n",
    "    \"\"\"Returns stdout if rc is not 0 else None\"\"\"\n",
    "    p = subprocess.Popen(command, stdout=subprocess.PIPE,\n",
    "                         stderr=subprocess.PIPE, shell=True)\n",
    "    output, _ = p.communicate()\n",
    "    rc = p.returncode\n",
    "    if PY3:\n",
    "        output = output.decode(\"ascii\")\n",
    "    if rc is not 0:\n",
    "        return None\n",
    "    return output.strip()\n",
    "\n",
    "\n",
    "def get_file_path(filename):\n",
    "    \"\"\"Returns the path of a file in `PATH`\"\"\"\n",
    "    out = get_output('where ' + filename)\n",
    "    if out is None:\n",
    "        return out\n",
    "    else:\n",
    "        return out.split('\\r\\n')[0]\n",
    "\n",
    "\n",
    "def detect_reason(raw_message):\n",
    "    message = ''\n",
    "    if raw_message == 'No module named torch' or raw_message == 'No module named \\'torch\\'':\n",
    "        # detect pip python path mismatch\n",
    "        mismatch, pip_path, python_path = detect_install_import_mismatch()\n",
    "        if mismatch:\n",
    "            message += 'Probably you installed torch in one environment '\n",
    "            message += 'but imported in another one.\\n'\n",
    "            message += 'Detected pip path: %s\\n' % pip_path\n",
    "            message += 'Detected python path: %s\\n' % python_path\n",
    "        else:\n",
    "            message += 'It seems that torch is not installed.\\n'\n",
    "            message += 'Please refer to https://pytorch.org for installation.\\n'\n",
    "    elif raw_message.startswith('DLL load failed'):\n",
    "        add_paths([NVTOOLEXT_HOME, PY_DLL_PATH])\n",
    "        message += check_dependents(TORCH_LIBS, 'PyTorch', [\n",
    "                                    '1. Please change your current directory.', '2. Please reinstall torch.'])\n",
    "        message += check_dependents(VC_LIBS, 'VC Redist',\n",
    "                                    'Please refer to https://aka.ms/vs/15/release/VC_redist.x64.exe for installation.')\n",
    "        message += check_dependents(MKL_LIBS, 'MKL',\n",
    "                                    '`conda install mkl` or `pip install mkl`')\n",
    "        message += check_dependents(INTEL_OPENMP_LIBS, 'intel-openmp',\n",
    "                                    '`conda install intel-openmp` or `pip install intel-openmp`')\n",
    "        if IS_CUDA:\n",
    "            if detect_nv_card():\n",
    "                message += check_dependents(\n",
    "                    CUDA_LIBS, 'CUDA', 'Please refer to https://developer.nvidia.com/cuda-downloads for installation.')\n",
    "            else:\n",
    "                message += 'It seems that you don\\'t have NV cards. Please use CPU version instead.\\n'\n",
    "\n",
    "        if message == '':\n",
    "            message += 'It seems `import torch` should work.'\n",
    "            message += 'You may try to add `%s` to the environment variable `PATH`.\\n' % PY_DLL_PATH\n",
    "            message += 'And make sure you restart the command prompt when you apply any changes to the environment.\\n'\n",
    "    else:\n",
    "        message += 'Sorry, we don\\'t support this kind of message at present.\\n'\n",
    "        message += 'Original message:\\n'\n",
    "        message += raw_message\n",
    "\n",
    "    return message\n",
    "\n",
    "\n",
    "def detect_install_import_mismatch():\n",
    "    pip_path = get_file_path('pip.exe')\n",
    "    python_path = sys.executable\n",
    "    if pip_path is None or python_path is None:\n",
    "        return False\n",
    "    pip_dir = os.path.dirname(pip_path)\n",
    "    python_dir = os.path.dirname(python_path)\n",
    "    pip_parent_path = os.path.normpath(os.path.dirname(pip_dir))\n",
    "    python_path = os.path.normpath(python_dir)\n",
    "    mismatch = pip_parent_path != python_path\n",
    "    return mismatch, pip_path, python_path\n",
    "\n",
    "\n",
    "def check_dependents(dependents, name, solution):\n",
    "    \"\"\"Checks dependencies loading and prints name and solution\"\"\"\n",
    "    message = ''\n",
    "    for dll in dependents:\n",
    "        try:\n",
    "            _ = ctypes.CDLL(dll)\n",
    "        except Exception as e:\n",
    "            message += 'DLL loading %s failed\\n' % dll\n",
    "            message += 'Original error message:\\n'\n",
    "            message += str(e)\n",
    "            if name is not None:\n",
    "                message += 'It is a component of %s\\n' % name\n",
    "            if solution:\n",
    "                message += 'Possible solution:\\n'\n",
    "                if isinstance(solution, list):\n",
    "                    message += '\\n'.join(solution)\n",
    "                else:\n",
    "                    message += solution\n",
    "                message += '\\n'\n",
    "\n",
    "    return message\n",
    "\n",
    "\n",
    "def detect_nv_card():\n",
    "    gpu_names = get_output('wmic path win32_VideoController get name')\n",
    "    if 'NVIDIA' in gpu_names:\n",
    "        return True\n",
    "    else:\n",
    "        return False\n",
    "\n",
    "\n",
    "def main():\n",
    "    try:\n",
    "        import torch\n",
    "        print('`import torch` works perfectly.')\n",
    "    except ImportError as e:\n",
    "        message = detect_reason(str(e))\n",
    "        print(message)\n",
    "\n",
    "\n",
    "if __name__ == '__main__':\n",
    "    main()"
   ]
  },
  {
   "cell_type": "code",
   "execution_count": null,
   "metadata": {},
   "outputs": [],
   "source": []
  }
 ],
 "metadata": {
  "kernelspec": {
   "display_name": "Python 3",
   "language": "python",
   "name": "python3"
  },
  "language_info": {
   "codemirror_mode": {
    "name": "ipython",
    "version": 3
   },
   "file_extension": ".py",
   "mimetype": "text/x-python",
   "name": "python",
   "nbconvert_exporter": "python",
   "pygments_lexer": "ipython3",
   "version": "3.6.5"
  }
 },
 "nbformat": 4,
 "nbformat_minor": 2
}
